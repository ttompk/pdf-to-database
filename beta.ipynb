{
 "cells": [
  {
   "cell_type": "code",
   "execution_count": 1,
   "id": "55c77797-cd07-4657-90b6-fe09aec1c4b9",
   "metadata": {},
   "outputs": [],
   "source": [
    "%load_ext autoreload\n",
    "%autoreload 2"
   ]
  },
  {
   "cell_type": "code",
   "execution_count": null,
   "id": "d0215c57-1dbe-4ef6-b9a9-2e2b754ece63",
   "metadata": {},
   "outputs": [],
   "source": []
  },
  {
   "cell_type": "code",
   "execution_count": null,
   "id": "c6f7a57f-44f3-450d-8ca6-0d667e2e0bee",
   "metadata": {},
   "outputs": [],
   "source": []
  },
  {
   "cell_type": "code",
   "execution_count": null,
   "id": "312fd81c-1f02-468d-89a8-e423e7282a64",
   "metadata": {},
   "outputs": [],
   "source": []
  },
  {
   "cell_type": "code",
   "execution_count": null,
   "id": "1149a6a2-25d8-4422-ba27-423c6998f812",
   "metadata": {},
   "outputs": [],
   "source": []
  },
  {
   "cell_type": "code",
   "execution_count": 92,
   "id": "65fd644f-00c5-4a8c-b877-8885fba2ed24",
   "metadata": {},
   "outputs": [],
   "source": [
    "import sys_pdf\n",
    "import pdf_functions as pdf\n",
    "import os\n",
    "\n",
    "'''\n",
    "Process a PDF using search dictionary\n",
    "'''\n",
    "\n",
    "def open_and_read(working_dir, file_name):# open a file and read\n",
    "    try: \n",
    "        path_name = working_dir + \"/\" + file_name\n",
    "        scanned_text = pdf.read_pdf(path_name)\n",
    "    except:\n",
    "        sys_pdf.sys_log_entry('read error', \"Could not open file: \" + path_name)\n",
    "        sys_pdf.move_file(working_dir, \"not_processed\", file_name)\n",
    "    return scanned_text, path_name\n",
    "\n",
    "\n",
    "def format_text(scanned_text):\n",
    "    # add the contents for each page into a list\n",
    "    contents = pdf.text_to_list(scanned_text)\n",
    "\n",
    "    # iterate over each page\n",
    "    by_line = []\n",
    "    for page in range(0, len(scanned_text.pages)):  # create a flat list of strings\n",
    "        by_line += contents[page].split('\\n')       # remove the line breaks\n",
    "    \n",
    "    return by_line\n",
    "\n",
    "\n",
    "def process_pdfs(working_dir):\n",
    "    file_counter = 0\n",
    "     \n",
    "    # for filename in working_dir\n",
    "    for file_name in os.listdir(working_dir):\n",
    "    \n",
    "        # pull text from pdf file\n",
    "        scanned_text, path_name = open_and_read(working_dir, file_name)\n",
    "        \n",
    "        # process the file\n",
    "        try: \n",
    "            # make a list of text\n",
    "            by_line = format_text(scanned_text)\n",
    "            \n",
    "            # open dictionary of search terms\n",
    "            table_1_search, table_1_type = pdf.table_1_search_dict()\n",
    "            table_2_search, table_2_type = pdf.table_2_search_dict()\n",
    "        \n",
    "            # create tables with pulled data\n",
    "            table_1 = pdf.one_table(table_1_search, by_line)\n",
    "            table_2 = pdf.many_table(table_2_search, by_line)  \n",
    "        \n",
    "            # \n",
    "            table_1_df = pdf.one_table_df(table_1)\n",
    "            table_2_df = pdf.many_table_df(table_2)  # verifies that the length of each value list is the same in a many table\n",
    "        \n",
    "            # add a column of invoice numbers for each table_2 entry\n",
    "            #table_2_df['invoice_number'] = table_1['invoice_number'][0]\n",
    "            table_2_df.insert(0, 'invoice_number', table_1['invoice_number'][0])\n",
    "        \n",
    "            # format dates to standard YYYY-MM-DD\n",
    "            formatted_date_str = pdf.format_date(table_1['invoice_date'][0], '%B %d, %Y')  # November 11, 2015\n",
    "            name_base = table_1['company_name'][0].replace('.', '_') + '_' + formatted_date_str\n",
    "        \n",
    "            pdf.save_as_csv(table_1, table_1_df, name_base, 'overview')\n",
    "            pdf.save_as_csv(table_1, table_2_df, name_base, 'products')\n",
    "        \n",
    "            # save the pdf in the 'processed' directory\n",
    "            sys_pdf.move_file(working_dir, \"processed\", file_name)\n",
    "            \n",
    "            file_counter += 1\n",
    "            \n",
    "        except:\n",
    "            sys_pdf.sys_log_entry('production error', \"Could not properly analyze file: \" + path_name)\n",
    "            #  move pdf to error directory\n",
    "            sys_pdf.move_file(working_dir, \"not_processed\", file_name)\n",
    "    \n",
    "    print(f\"A total of {file_counter} files were processed.\")"
   ]
  },
  {
   "cell_type": "code",
   "execution_count": 70,
   "id": "fd67aca9-122a-46ae-b5d5-a187e81f3672",
   "metadata": {},
   "outputs": [
    {
     "name": "stdout",
     "output_type": "stream",
     "text": [
      "no files There are no files in the pdf_inbox directory.\n"
     ]
    }
   ],
   "source": [
    "# Move PDF files to working directory\n",
    "source_dir = \"pdf_inbox\"\n",
    "working_dir = \"working_dir\"\n",
    "files_present = sys_pdf.to_working_dir(source_dir, working_dir)\n",
    "\n",
    "if files_present:   # only move forward with formatting if there are files to process\n",
    "    process_pdfs(working_dir)"
   ]
  },
  {
   "cell_type": "code",
   "execution_count": null,
   "id": "e2a1b335-a851-4e7f-8398-2756e192f003",
   "metadata": {},
   "outputs": [],
   "source": []
  },
  {
   "cell_type": "code",
   "execution_count": null,
   "id": "72ba7f1f-28e0-4545-980a-1e90c5aeaf9f",
   "metadata": {},
   "outputs": [],
   "source": []
  },
  {
   "cell_type": "code",
   "execution_count": null,
   "id": "25320e9c-e680-4b06-8edf-7385d5a3c870",
   "metadata": {},
   "outputs": [],
   "source": []
  },
  {
   "cell_type": "code",
   "execution_count": null,
   "id": "7befffe4-883d-41a6-afa0-25d42170444f",
   "metadata": {},
   "outputs": [],
   "source": []
  },
  {
   "cell_type": "code",
   "execution_count": null,
   "id": "61bfcf85-6be3-4ad4-ad52-c0c4f36a3010",
   "metadata": {},
   "outputs": [],
   "source": []
  },
  {
   "cell_type": "code",
   "execution_count": null,
   "id": "335e4750-06d7-4bf2-a7a6-342ed44a2909",
   "metadata": {},
   "outputs": [],
   "source": []
  },
  {
   "cell_type": "code",
   "execution_count": null,
   "id": "bd05a012-53ff-4715-8a5a-0da9b647c74e",
   "metadata": {},
   "outputs": [],
   "source": []
  },
  {
   "cell_type": "code",
   "execution_count": 94,
   "id": "4951ad8b-cad2-44a9-b19a-d00d5c2746d9",
   "metadata": {},
   "outputs": [
    {
     "name": "stdout",
     "output_type": "stream",
     "text": [
      "move Files in inbox: 1. Moved to working dir: 1. \n",
      "The file has 2 pages.\n"
     ]
    }
   ],
   "source": [
    "'''\n",
    "Build a search dictionary.\n",
    "'''\n",
    "import pandas as pd\n",
    "\n",
    "# Move PDF files to working directory\n",
    "source_dir = \"NEW_PDF_style\"\n",
    "working_dir = \"working_dir\"\n",
    "search_file_name = \"amazon111924.xlsx\"\n",
    "\n",
    "# checks directory if is a new PDF file to be formatted, if s move to working dir\n",
    "files_present = sys_pdf.to_working_dir(source_dir, working_dir)\n",
    "\n",
    "if files_present:\n",
    "    # open excel file as a pandas dataframe\n",
    "    guide = pd.read_excel(\"search_guides/\"+search_file_name)\n",
    "    \n",
    "    # table headers from the guide\n",
    "    overview_table_headers = [ 'Invoice date', 'Invoice number', 'Company name', 'Invoice total' ]\n",
    "    products_table_headers = [ 'Product name', 'Product company', 'Product amount' ]\n",
    "\n",
    "    # the name of the pdf file from search guide\n",
    "    pdf_file = guide['File name of PDF'][0]\n",
    "    \n",
    "    # open and pull text from pdf file\n",
    "    scanned_text, path_name = open_and_read(working_dir, pdf_file)\n",
    "\n",
    "    # prep the text strings for scanning\n",
    "    by_line = format_text(scanned_text)\n",
    "\n",
    "    # iterate over each table header\n",
    "    #for header in overview_table_headers:\n",
    "    header = guide['Invoice number'][0]\n",
    "    \n",
    "    # iterate over each line in the list of text strings\n",
    "    for line in by_line:\n",
    "        # is there a match between the search string and the line?\n",
    "        # if so return the match\n",
    "        #matching_string = pdf.find_string(line, header, position, del_chars)\n",
    "\n",
    "    if matching_string != None:\n",
    "        # clean up the string\n",
    "        clean_string = clean_text(matching_string)"
   ]
  },
  {
   "cell_type": "code",
   "execution_count": 100,
   "id": "fd0d4135-18eb-4491-a570-2002af72dfe5",
   "metadata": {},
   "outputs": [
    {
     "data": {
      "text/plain": [
       "'104-1523806-7547463'"
      ]
     },
     "execution_count": 100,
     "metadata": {},
     "output_type": "execute_result"
    }
   ],
   "source": [
    "guide['Invoice number'][0]"
   ]
  },
  {
   "cell_type": "code",
   "execution_count": 136,
   "id": "d874985e-c56e-4a70-be4e-359c8ff76c52",
   "metadata": {},
   "outputs": [],
   "source": [
    "pos=0\n",
    "header = guide['Invoice number'][0]\n",
    "len_target_text = len(header)\n",
    "for line in by_line:\n",
    "    char_location = line.find(header)\n",
    "    if char_location >= 0: \n",
    "        the_line = line\n",
    "        pos=char_location\n",
    "        break\n"
   ]
  },
  {
   "cell_type": "code",
   "execution_count": 137,
   "id": "8e37cc0b-0ce6-424b-a8e2-a7cdf8fee8b7",
   "metadata": {},
   "outputs": [
    {
     "data": {
      "text/plain": [
       "'Details for Orde r #104-1523806-7547463 '"
      ]
     },
     "execution_count": 137,
     "metadata": {},
     "output_type": "execute_result"
    }
   ],
   "source": [
    "the_line"
   ]
  },
  {
   "cell_type": "code",
   "execution_count": 138,
   "id": "a231079f-ae93-4f1f-b866-7a05c9342bcb",
   "metadata": {},
   "outputs": [
    {
     "data": {
      "text/plain": [
       "20"
      ]
     },
     "execution_count": 138,
     "metadata": {},
     "output_type": "execute_result"
    }
   ],
   "source": [
    "pos"
   ]
  },
  {
   "cell_type": "code",
   "execution_count": 132,
   "id": "df914aba-aa31-4a27-ba04-f49fcf27612d",
   "metadata": {},
   "outputs": [],
   "source": [
    "# The search term \n",
    "front = the_line[0:pos]\n",
    "\n",
    "back = the_line[pos+len_search_str:]"
   ]
  },
  {
   "cell_type": "code",
   "execution_count": 139,
   "id": "d78d1ed5-ce09-4f0d-b41f-b4ce8925cd9f",
   "metadata": {},
   "outputs": [
    {
     "data": {
      "text/plain": [
       "'Details for Orde r #'"
      ]
     },
     "execution_count": 139,
     "metadata": {},
     "output_type": "execute_result"
    }
   ],
   "source": [
    "the_line[0:pos]"
   ]
  },
  {
   "cell_type": "code",
   "execution_count": 3,
   "id": "337e75a6-10c9-4225-a729-8abe109ec25d",
   "metadata": {},
   "outputs": [],
   "source": [
    "import os"
   ]
  },
  {
   "cell_type": "code",
   "execution_count": 4,
   "id": "e3fa42dc-ea55-4410-911c-2c7753608972",
   "metadata": {},
   "outputs": [
    {
     "data": {
      "text/plain": [
       "environ{'TERM_PROGRAM': 'Apple_Terminal',\n",
       "        'SHELL': '/bin/zsh',\n",
       "        'TERM': 'xterm-color',\n",
       "        'TMPDIR': '/var/folders/mx/9z5jxmj95z98yvdqsby2m0ph0000gp/T/',\n",
       "        'TERM_PROGRAM_VERSION': '452',\n",
       "        'TERM_SESSION_ID': '5F2CEE61-B53E-4380-8E80-F000D04C16F6',\n",
       "        'USER': 'troy',\n",
       "        'SSH_AUTH_SOCK': '/private/tmp/com.apple.launchd.B4ZOau1HpN/Listeners',\n",
       "        'PATH': '/Users/troy/google-cloud-sdk/bin:/usr/local/Caskroom/miniforge/base/envs/pdf/bin:/usr/local/Caskroom/miniforge/base/condabin:/Applications/Postgres.app/Contents/Versions/15/bin:/opt/homebrew/bin:/Users/troy/bin:/usr/local/bin:/usr/local/bin:/System/Cryptexes/App/usr/bin:/usr/bin:/bin:/usr/sbin:/sbin:/var/run/com.apple.security.cryptexd/codex.system/bootstrap/usr/local/bin:/var/run/com.apple.security.cryptexd/codex.system/bootstrap/usr/bin:/var/run/com.apple.security.cryptexd/codex.system/bootstrap/usr/appleinternal/bin:/Library/Apple/usr/bin',\n",
       "        'LaunchInstanceID': '13DFBBB6-E81F-4770-AA71-F5FCA728715C',\n",
       "        '__CFBundleIdentifier': 'com.apple.Terminal',\n",
       "        'PWD': '/Users/troy/datascience/pdf-to-database',\n",
       "        'XPC_FLAGS': '0x0',\n",
       "        'XPC_SERVICE_NAME': '0',\n",
       "        'SHLVL': '1',\n",
       "        'HOME': '/Users/troy',\n",
       "        'LOGNAME': 'troy',\n",
       "        'SECURITYSESSIONID': '186b1',\n",
       "        'OLDPWD': '/Users/troy/datascience/pdf-to-database',\n",
       "        'ZSH': '/Users/troy/.oh-my-zsh',\n",
       "        'C_INCLUDE_PATH': '/opt/homebrew/Cellar/librdkafka/1.9.2/include',\n",
       "        'LIBRARY_PATH': '/opt/homebrew/Cellar/librdkafka/1.9.2/lib',\n",
       "        'PAGER': 'cat',\n",
       "        'LESS': '-R',\n",
       "        'LSCOLORS': 'Gxfxcxdxbxegedabagacad',\n",
       "        'LS_COLORS': 'di=1;36:ln=35:so=32:pi=33:ex=31:bd=34;46:cd=34;43:su=30;41:sg=30;46:tw=30;42:ow=30;43',\n",
       "        'CONDA_EXE': '/usr/local/Caskroom/miniforge/base/bin/conda',\n",
       "        '_CE_M': '',\n",
       "        '_CE_CONDA': '',\n",
       "        'CONDA_PYTHON_EXE': '/usr/local/Caskroom/miniforge/base/bin/python',\n",
       "        'CONDA_SHLVL': '2',\n",
       "        'CONDA_PREFIX': '/usr/local/Caskroom/miniforge/base/envs/pdf',\n",
       "        'CONDA_DEFAULT_ENV': 'pdf',\n",
       "        'CONDA_PROMPT_MODIFIER': '(pdf) ',\n",
       "        'GM_PW': 'nxzj eiaf lxck lvir',\n",
       "        'CONDA_PREFIX_1': '/usr/local/Caskroom/miniforge/base',\n",
       "        'JAVA_HOME': '/usr/local/Caskroom/miniforge/base/envs/pdf/lib/jvm',\n",
       "        'JAVA_LD_LIBRARY_PATH': '/usr/local/Caskroom/miniforge/base/envs/pdf/lib/jvm/lib/server',\n",
       "        'LANG': 'en_US.UTF-8',\n",
       "        '_': '/usr/local/Caskroom/miniforge/base/envs/pdf/bin/jupyter',\n",
       "        'JPY_SESSION_NAME': '/Users/troy/datascience/pdf-to-database/beta.ipynb',\n",
       "        'JPY_PARENT_PID': '13299',\n",
       "        'PYDEVD_USE_FRAME_EVAL': 'NO',\n",
       "        'CLICOLOR': '1',\n",
       "        'FORCE_COLOR': '1',\n",
       "        'CLICOLOR_FORCE': '1',\n",
       "        'GIT_PAGER': 'cat',\n",
       "        'MPLBACKEND': 'module://matplotlib_inline.backend_inline'}"
      ]
     },
     "execution_count": 4,
     "metadata": {},
     "output_type": "execute_result"
    }
   ],
   "source": [
    "os.environ"
   ]
  },
  {
   "cell_type": "code",
   "execution_count": 11,
   "id": "1ae215f2-1041-41a8-bf3f-7b268c0bd68b",
   "metadata": {},
   "outputs": [],
   "source": [
    "\n",
    "\n",
    "# Access environment variables\n",
    "open_ai_key = os.getenv(\"OPENAI_API_KEY\")"
   ]
  },
  {
   "cell_type": "code",
   "execution_count": null,
   "id": "55e6b586-34a4-4f8d-b18c-a6ef99e5598d",
   "metadata": {},
   "outputs": [],
   "source": [
    "import dotenv\n",
    "import os\n",
    "import openai\n",
    "\n",
    "# Load environment variables from the .env file\n",
    "dotenv.load_dotenv()\n",
    "\n",
    "openai.api_key = os.getenv(\"OPENAI_API_KEY\")\n",
    "messages = [ {\"role\": \"system\", \n",
    "              \"content\": \"You are a intelligent assistant.\"} ]\n",
    "while True:\n",
    "    message = input(\"User : \")\n",
    "    if message:\n",
    "        messages.append(\n",
    "            {\"role\": \"user\", \"content\": message},\n",
    "        )\n",
    "        chat = openai.ChatCompletion.create(\n",
    "            model=\"gpt-3.5-turbo\", messages=messages\n",
    "        )\n",
    "    reply = chat.choices[0].message.content\n",
    "    print(f\"ChatGPT: {reply}\")\n",
    "    messages.append({\"role\": \"assistant\", \"content\": reply})"
   ]
  },
  {
   "cell_type": "code",
   "execution_count": null,
   "id": "dce076be-1a54-47a7-81d2-a5321dcd522c",
   "metadata": {},
   "outputs": [],
   "source": []
  },
  {
   "cell_type": "code",
   "execution_count": null,
   "id": "aa8cd207-3f43-4d96-943d-c6c43684525b",
   "metadata": {},
   "outputs": [],
   "source": []
  },
  {
   "cell_type": "code",
   "execution_count": null,
   "id": "7b095a7c-cddf-47ac-9fed-38e59dbd48b8",
   "metadata": {},
   "outputs": [],
   "source": []
  },
  {
   "cell_type": "code",
   "execution_count": null,
   "id": "58ad6dab-7181-4b16-994a-aad24f1de27d",
   "metadata": {},
   "outputs": [],
   "source": []
  }
 ],
 "metadata": {
  "kernelspec": {
   "display_name": "Python 3 (ipykernel)",
   "language": "python",
   "name": "python3"
  },
  "language_info": {
   "codemirror_mode": {
    "name": "ipython",
    "version": 3
   },
   "file_extension": ".py",
   "mimetype": "text/x-python",
   "name": "python",
   "nbconvert_exporter": "python",
   "pygments_lexer": "ipython3",
   "version": "3.12.7"
  }
 },
 "nbformat": 4,
 "nbformat_minor": 5
}

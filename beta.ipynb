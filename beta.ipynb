{
 "cells": [
  {
   "cell_type": "code",
   "execution_count": 26,
   "id": "55c77797-cd07-4657-90b6-fe09aec1c4b9",
   "metadata": {},
   "outputs": [
    {
     "name": "stdout",
     "output_type": "stream",
     "text": [
      "The autoreload extension is already loaded. To reload it, use:\n",
      "  %reload_ext autoreload\n"
     ]
    }
   ],
   "source": [
    "%load_ext autoreload\n",
    "%autoreload 2"
   ]
  },
  {
   "cell_type": "code",
   "execution_count": 27,
   "id": "d0215c57-1dbe-4ef6-b9a9-2e2b754ece63",
   "metadata": {},
   "outputs": [],
   "source": [
    "import pdf_functions as pf"
   ]
  },
  {
   "cell_type": "code",
   "execution_count": 28,
   "id": "c6f7a57f-44f3-450d-8ca6-0d667e2e0bee",
   "metadata": {},
   "outputs": [
    {
     "name": "stdout",
     "output_type": "stream",
     "text": [
      "The file has 2 pages.\n"
     ]
    }
   ],
   "source": [
    "scanned_text = pf.read_pdf('pdf_examples/amazon_111215.pdf')\n",
    "\n",
    "# add the contents for each page into a list\n",
    "contents = pf.text_to_list(scanned_text)\n",
    "\n",
    "# iterate over each page\n",
    "by_line = []\n",
    "for page in range(0, len(scanned_text.pages)):  # create a flat list of strings\n",
    "    by_line += contents[page].split('\\n')       # remove the line breaks\n",
    "\n",
    "# create a dictionary of search terms\n",
    "table_1_search, table_1_type = pf.table_1_search_dict()\n",
    "table_2_search, table_2_type = pf.table_2_search_dict()\n",
    "\n",
    "# create \n",
    "table_1 = pf.one_table(table_1_search, by_line)\n",
    "table_2 = pf.many_table(table_2_search, by_line) \n",
    "\n",
    "table_1_df = pf.one_table_df(table_1)\n",
    "table_2_df = pf.many_table_df(table_2)  # verifies that the length of each value list is the same in a many table\n",
    "\n",
    "# add a column of invoice numbers for each table_2 entry\n",
    "#table_2_df['invoice_number'] = table_1['invoice_number'][0]\n",
    "table_2_df.insert(0, 'invoice_number', table_1['invoice_number'][0])\n",
    "\n",
    "# format dates to standard YYYY-MM-DD\n",
    "formatted_date_str = pf.format_date(table_1['invoice_date'][0], '%B %d, %Y')  # November 11, 2015\n",
    "name_base = table_1['company_name'][0].replace('.', '_') + '_' + formatted_date_str\n",
    "\n",
    "pf.save_as_csv(table_1, table_1_df, name_base, 'overview')\n",
    "pf.save_as_csv(table_1, table_2_df, name_base, 'products')\n"
   ]
  },
  {
   "cell_type": "code",
   "execution_count": null,
   "id": "312fd81c-1f02-468d-89a8-e423e7282a64",
   "metadata": {},
   "outputs": [],
   "source": []
  },
  {
   "cell_type": "code",
   "execution_count": null,
   "id": "83d664ef-6bb7-459c-a4e6-93673a5c444e",
   "metadata": {},
   "outputs": [],
   "source": []
  },
  {
   "cell_type": "code",
   "execution_count": null,
   "id": "f362072a-9ea6-4eff-80d9-4a35a3298db4",
   "metadata": {},
   "outputs": [],
   "source": []
  },
  {
   "cell_type": "code",
   "execution_count": null,
   "id": "1149a6a2-25d8-4422-ba27-423c6998f812",
   "metadata": {},
   "outputs": [],
   "source": []
  },
  {
   "cell_type": "code",
   "execution_count": null,
   "id": "fd0d4135-18eb-4491-a570-2002af72dfe5",
   "metadata": {},
   "outputs": [],
   "source": []
  },
  {
   "cell_type": "code",
   "execution_count": null,
   "id": "d874985e-c56e-4a70-be4e-359c8ff76c52",
   "metadata": {},
   "outputs": [],
   "source": []
  },
  {
   "cell_type": "code",
   "execution_count": null,
   "id": "8e37cc0b-0ce6-424b-a8e2-a7cdf8fee8b7",
   "metadata": {},
   "outputs": [],
   "source": []
  }
 ],
 "metadata": {
  "kernelspec": {
   "display_name": "Python 3 (ipykernel)",
   "language": "python",
   "name": "python3"
  },
  "language_info": {
   "codemirror_mode": {
    "name": "ipython",
    "version": 3
   },
   "file_extension": ".py",
   "mimetype": "text/x-python",
   "name": "python",
   "nbconvert_exporter": "python",
   "pygments_lexer": "ipython3",
   "version": "3.12.7"
  }
 },
 "nbformat": 4,
 "nbformat_minor": 5
}

{
 "cells": [
  {
   "cell_type": "code",
   "execution_count": 1,
   "id": "55c77797-cd07-4657-90b6-fe09aec1c4b9",
   "metadata": {},
   "outputs": [],
   "source": [
    "%load_ext autoreload\n",
    "%autoreload 2"
   ]
  },
  {
   "cell_type": "code",
   "execution_count": null,
   "id": "d0215c57-1dbe-4ef6-b9a9-2e2b754ece63",
   "metadata": {},
   "outputs": [],
   "source": []
  },
  {
   "cell_type": "code",
   "execution_count": null,
   "id": "c6f7a57f-44f3-450d-8ca6-0d667e2e0bee",
   "metadata": {},
   "outputs": [],
   "source": []
  },
  {
   "cell_type": "code",
   "execution_count": null,
   "id": "312fd81c-1f02-468d-89a8-e423e7282a64",
   "metadata": {},
   "outputs": [],
   "source": []
  },
  {
   "cell_type": "code",
   "execution_count": null,
   "id": "1149a6a2-25d8-4422-ba27-423c6998f812",
   "metadata": {},
   "outputs": [],
   "source": []
  },
  {
   "cell_type": "code",
   "execution_count": 51,
   "id": "65fd644f-00c5-4a8c-b877-8885fba2ed24",
   "metadata": {},
   "outputs": [],
   "source": [
    "import sys_pdf\n",
    "import pdf_functions as pdf\n",
    "import os\n",
    "import sys_pdf\n",
    "\n",
    "'''\n",
    "Process a PDF using search dictionary\n",
    "'''\n",
    "\n",
    "def open_and_read(working_dir, file_name):# open a file and read\n",
    "    try: \n",
    "        path_name = working_dir + \"/\" + file_name\n",
    "        scanned_text = pdf.read_pdf(path_name)\n",
    "    except:\n",
    "        sys_pdf.sys_log_entry('read error', \"Could not open file: \" + path_name)\n",
    "        sys_pdf.move_file(working_dir, \"not_processed\", file_name)\n",
    "    return scanned_text, path_name\n",
    "\n",
    "\n",
    "def format_text(scanned_text):\n",
    "    # add the contents for each page into a list\n",
    "    contents = pdf.text_to_list(scanned_text)\n",
    "\n",
    "    # iterate over each page\n",
    "    by_line = []\n",
    "    for page in range(0, len(scanned_text.pages)):  # create a flat list of strings\n",
    "        by_line += contents[page].split('\\n')       # remove the line breaks\n",
    "    return by_line\n",
    "\n",
    "\n",
    "def pull_name_date(overview_table):\n",
    "    company_name = overview_table['invoice_company'][0].replace('.', '_')\n",
    "    # format dates to standard YYYY-MM-DD\n",
    "    formatted_date_str = pdf.format_date(overview_table['invoice_date'][0], '%B %d, %Y') # November 11, 2015\n",
    "    return company_name, formatted_date_str\n",
    "\n",
    "def save_name(company_name, formatted_date_str):\n",
    "    name_base = company_name + \"_\" + formatted_date_str\n",
    "    return name_base\n",
    "\n",
    "def process_pdfs(working_dir, csv_dir):\n",
    "    file_counter = 0\n",
    "     \n",
    "    # for filename in working_dir\n",
    "    for file_name in os.listdir(working_dir):\n",
    "    \n",
    "        # pull text from pdf file\n",
    "        scanned_text, path_name = open_and_read(working_dir, file_name)\n",
    "        \n",
    "        # process the file\n",
    "        try: \n",
    "            # make a list of text\n",
    "            by_line = format_text(scanned_text)\n",
    "            \n",
    "            # open dictionary of search terms\n",
    "            table_1_search, table_1_type = pdf.table_1_search_dict()\n",
    "            table_2_search, table_2_type = pdf.table_2_search_dict()\n",
    "        \n",
    "            # create tables with pulled data\n",
    "            table_1 = pdf.one_table(table_1_search, by_line)\n",
    "            table_2 = pdf.many_table(table_2_search, by_line)  \n",
    "        \n",
    "            # \n",
    "            table_1_df = pdf.one_table_df(table_1)\n",
    "            table_2_df = pdf.many_table_df(table_2)  # verifies that the length of each value list is the same in a many table\n",
    "        \n",
    "            # add a column of invoice numbers for each table_2 entry\n",
    "            #table_2_df['invoice_number'] = table_1['invoice_number'][0]\n",
    "            table_2_df.insert(0, 'invoice_number', table_1['invoice_number'][0])\n",
    "\n",
    "            # grab company name and invoice date from overview table\n",
    "            company_name, invoice_date = pull_name_date(table_1)\n",
    "            name_base = save_name(company_name, invoice_date)\n",
    "            \n",
    "            # save the csv and log\n",
    "            table_dict = {\"overview\":table_1_df, \"products\":table_2_df}\n",
    "            for key, value in table_dict.items():\n",
    "                routine,log_value=pdf.save_as_csv(value, csv_dir, name_base, key)\n",
    "                sys_pdf.sys_log_entry(routine, log_value)\n",
    "            \n",
    "            # save the pdf in the 'processed' directory\n",
    "            sys_pdf.move_file(working_dir, \"processed\", file_name)\n",
    "            \n",
    "            file_counter += 1\n",
    "            \n",
    "        except:\n",
    "            sys_pdf.sys_log_entry('production error', \"Could not properly analyze file: \" + path_name)\n",
    "            #  move pdf to error directory\n",
    "            sys_pdf.move_file(working_dir, \"not_processed\", file_name)\n",
    "    \n",
    "    print(f\"A total of {file_counter} PDF files were processed.\")"
   ]
  },
  {
   "cell_type": "code",
   "execution_count": 52,
   "id": "fd67aca9-122a-46ae-b5d5-a187e81f3672",
   "metadata": {},
   "outputs": [
    {
     "name": "stdout",
     "output_type": "stream",
     "text": [
      "move Files in inbox: 1. Moved to working dir: 1. \n",
      "The file has 2 pages.\n",
      "CSV OK. Saved: overview Amazon_com_2015-11-11\n",
      "CSV OK. Saved: products Amazon_com_2015-11-11\n",
      "A total of 1 PDF files were processed.\n"
     ]
    }
   ],
   "source": [
    "# Move PDF files to working directory\n",
    "source_dir = \"pdf_inbox\"\n",
    "working_dir = \"working_dir\"\n",
    "csv_dir = \"example_output_files\"\n",
    "\n",
    "files_present = sys_pdf.to_working_dir(source_dir, working_dir)\n",
    "\n",
    "if files_present:   # only move forward with formatting if there are files to process\n",
    "    process_pdfs(working_dir, csv_dir)"
   ]
  },
  {
   "cell_type": "code",
   "execution_count": null,
   "id": "e2a1b335-a851-4e7f-8398-2756e192f003",
   "metadata": {},
   "outputs": [],
   "source": []
  },
  {
   "cell_type": "code",
   "execution_count": null,
   "id": "72ba7f1f-28e0-4545-980a-1e90c5aeaf9f",
   "metadata": {},
   "outputs": [],
   "source": []
  },
  {
   "cell_type": "code",
   "execution_count": null,
   "id": "25320e9c-e680-4b06-8edf-7385d5a3c870",
   "metadata": {},
   "outputs": [],
   "source": []
  },
  {
   "cell_type": "code",
   "execution_count": null,
   "id": "7befffe4-883d-41a6-afa0-25d42170444f",
   "metadata": {},
   "outputs": [],
   "source": []
  },
  {
   "cell_type": "code",
   "execution_count": null,
   "id": "61bfcf85-6be3-4ad4-ad52-c0c4f36a3010",
   "metadata": {},
   "outputs": [],
   "source": []
  },
  {
   "cell_type": "code",
   "execution_count": null,
   "id": "335e4750-06d7-4bf2-a7a6-342ed44a2909",
   "metadata": {},
   "outputs": [],
   "source": []
  },
  {
   "cell_type": "code",
   "execution_count": null,
   "id": "bd05a012-53ff-4715-8a5a-0da9b647c74e",
   "metadata": {},
   "outputs": [],
   "source": []
  },
  {
   "cell_type": "code",
   "execution_count": 94,
   "id": "4951ad8b-cad2-44a9-b19a-d00d5c2746d9",
   "metadata": {
    "jupyter": {
     "source_hidden": true
    }
   },
   "outputs": [
    {
     "name": "stdout",
     "output_type": "stream",
     "text": [
      "move Files in inbox: 1. Moved to working dir: 1. \n",
      "The file has 2 pages.\n"
     ]
    }
   ],
   "source": [
    "'''\n",
    "Build a search dictionary.\n",
    "'''\n",
    "import pandas as pd\n",
    "\n",
    "# Move PDF files to working directory\n",
    "source_dir = \"NEW_PDF_style\"\n",
    "working_dir = \"working_dir\"\n",
    "search_file_name = \"amazon111924.xlsx\"\n",
    "\n",
    "# checks directory if is a new PDF file to be formatted, if s move to working dir\n",
    "files_present = sys_pdf.to_working_dir(source_dir, working_dir)\n",
    "\n",
    "if files_present:\n",
    "    # open excel file as a pandas dataframe\n",
    "    guide = pd.read_excel(\"search_guides/\"+search_file_name)\n",
    "    \n",
    "    # table headers from the guide\n",
    "    overview_table_headers = [ 'Invoice date', 'Invoice number', 'Company name', 'Invoice total' ]\n",
    "    products_table_headers = [ 'Product name', 'Product company', 'Product amount' ]\n",
    "\n",
    "    # the name of the pdf file from search guide\n",
    "    pdf_file = guide['File name of PDF'][0]\n",
    "    \n",
    "    # open and pull text from pdf file\n",
    "    scanned_text, path_name = open_and_read(working_dir, pdf_file)\n",
    "\n",
    "    # prep the text strings for scanning\n",
    "    by_line = format_text(scanned_text)\n",
    "\n",
    "    # iterate over each table header\n",
    "    #for header in overview_table_headers:\n",
    "    header = guide['Invoice number'][0]\n",
    "    \n",
    "    # iterate over each line in the list of text strings\n",
    "    for line in by_line:\n",
    "        # is there a match between the search string and the line?\n",
    "        # if so return the match\n",
    "        #matching_string = pdf.find_string(line, header, position, del_chars)\n",
    "\n",
    "    if matching_string != None:\n",
    "        # clean up the string\n",
    "        clean_string = clean_text(matching_string)"
   ]
  },
  {
   "cell_type": "code",
   "execution_count": 100,
   "id": "fd0d4135-18eb-4491-a570-2002af72dfe5",
   "metadata": {},
   "outputs": [
    {
     "data": {
      "text/plain": [
       "'104-1523806-7547463'"
      ]
     },
     "execution_count": 100,
     "metadata": {},
     "output_type": "execute_result"
    }
   ],
   "source": [
    "guide['Invoice number'][0]"
   ]
  },
  {
   "cell_type": "code",
   "execution_count": 136,
   "id": "d874985e-c56e-4a70-be4e-359c8ff76c52",
   "metadata": {},
   "outputs": [],
   "source": [
    "pos=0\n",
    "header = guide['Invoice number'][0]\n",
    "len_target_text = len(header)\n",
    "for line in by_line:\n",
    "    char_location = line.find(header)\n",
    "    if char_location >= 0: \n",
    "        the_line = line\n",
    "        pos=char_location\n",
    "        break\n"
   ]
  },
  {
   "cell_type": "code",
   "execution_count": 137,
   "id": "8e37cc0b-0ce6-424b-a8e2-a7cdf8fee8b7",
   "metadata": {},
   "outputs": [
    {
     "data": {
      "text/plain": [
       "'Details for Orde r #104-1523806-7547463 '"
      ]
     },
     "execution_count": 137,
     "metadata": {},
     "output_type": "execute_result"
    }
   ],
   "source": [
    "the_line"
   ]
  },
  {
   "cell_type": "code",
   "execution_count": 138,
   "id": "a231079f-ae93-4f1f-b866-7a05c9342bcb",
   "metadata": {},
   "outputs": [
    {
     "data": {
      "text/plain": [
       "20"
      ]
     },
     "execution_count": 138,
     "metadata": {},
     "output_type": "execute_result"
    }
   ],
   "source": [
    "pos"
   ]
  },
  {
   "cell_type": "code",
   "execution_count": 132,
   "id": "df914aba-aa31-4a27-ba04-f49fcf27612d",
   "metadata": {},
   "outputs": [],
   "source": [
    "# The search term \n",
    "front = the_line[0:pos]\n",
    "\n",
    "back = the_line[pos+len_search_str:]"
   ]
  },
  {
   "cell_type": "code",
   "execution_count": 139,
   "id": "d78d1ed5-ce09-4f0d-b41f-b4ce8925cd9f",
   "metadata": {},
   "outputs": [
    {
     "data": {
      "text/plain": [
       "'Details for Orde r #'"
      ]
     },
     "execution_count": 139,
     "metadata": {},
     "output_type": "execute_result"
    }
   ],
   "source": [
    "the_line[0:pos]"
   ]
  },
  {
   "cell_type": "code",
   "execution_count": null,
   "id": "337e75a6-10c9-4225-a729-8abe109ec25d",
   "metadata": {},
   "outputs": [],
   "source": []
  },
  {
   "cell_type": "code",
   "execution_count": null,
   "id": "576d4de8-c0bc-4fbb-b68d-c242429396f0",
   "metadata": {},
   "outputs": [],
   "source": []
  },
  {
   "cell_type": "code",
   "execution_count": null,
   "id": "84f60e80-a86c-401c-a2dd-bafbfb2c0f6f",
   "metadata": {},
   "outputs": [],
   "source": []
  },
  {
   "cell_type": "code",
   "execution_count": null,
   "id": "e3fa42dc-ea55-4410-911c-2c7753608972",
   "metadata": {},
   "outputs": [],
   "source": []
  },
  {
   "cell_type": "code",
   "execution_count": null,
   "id": "86d1f1af-57bc-48c7-92ea-36512e15877f",
   "metadata": {},
   "outputs": [],
   "source": []
  },
  {
   "cell_type": "code",
   "execution_count": null,
   "id": "1ae215f2-1041-41a8-bf3f-7b268c0bd68b",
   "metadata": {},
   "outputs": [],
   "source": []
  },
  {
   "cell_type": "code",
   "execution_count": null,
   "id": "55e6b586-34a4-4f8d-b18c-a6ef99e5598d",
   "metadata": {},
   "outputs": [],
   "source": []
  },
  {
   "cell_type": "code",
   "execution_count": null,
   "id": "dce076be-1a54-47a7-81d2-a5321dcd522c",
   "metadata": {},
   "outputs": [],
   "source": []
  },
  {
   "cell_type": "code",
   "execution_count": 53,
   "id": "aa8cd207-3f43-4d96-943d-c6c43684525b",
   "metadata": {},
   "outputs": [],
   "source": [
    "def extract_text_from_pdf(file_path):\n",
    "    \"\"\"Extracts text from a PDF file.\"\"\"\n",
    "    text = \"\"\n",
    "    with open(file_path, 'rb') as file:\n",
    "        reader = PyPDF2.PdfReader(file)\n",
    "        for page in reader.pages:\n",
    "            text += page.extract_text()\n",
    "    return text\n",
    "\n",
    "def extract_invoice_data(client, text):\n",
    "    \"\"\"Extracts specific invoice details using OpenAI ChatCompletion API.\"\"\"\n",
    "    # Prompt for the model to identify relevant data\n",
    "    prompt = f\"\"\"\n",
    "    Extract the following details from the text:\n",
    "    - Invoice Date\n",
    "    - Invoice Number\n",
    "    - Invoice Company\n",
    "    - Invoice Total\n",
    "    Text: {text}\n",
    "    Provide the data in a JSON format with keys: invoice_date, invoice_number, invoice_company, invoice_total.\n",
    "    \"\"\"\n",
    "    #client.completions.create()\n",
    "    response = client.chat.completions.create(\n",
    "        max_tokens = 2000,\n",
    "        model=\"gpt-4o-mini\",\n",
    "        messages=[\n",
    "            {\"role\": \"system\", \"content\": \"You are a helpful assistant that extracts structured data from text.\"},\n",
    "            {\"role\": \"user\", \"content\": prompt}\n",
    "        ]\n",
    "    )\n",
    "    extracted_data = response.choices[0].message.content.strip(\"```json\").replace(\"\\n\",\"\")\n",
    "    return response, eval(extracted_data)  # Convert string to dictionary\n",
    "\n",
    "def create_invoice_table(data):\n",
    "    \"\"\"Creates a table with the extracted data.\"\"\"\n",
    "    df = pd.DataFrame([data])\n",
    "    #df.columns = [\"Invoice Date\", \"Invoice Number\", \"Invoice Company\", \"Invoice Total\"]\n",
    "    return df\n",
    "\n",
    "\n",
    "                "
   ]
  },
  {
   "cell_type": "code",
   "execution_count": 54,
   "id": "0c753143-b605-4ca4-b92c-f93efa343be2",
   "metadata": {},
   "outputs": [
    {
     "ename": "FileNotFoundError",
     "evalue": "[Errno 2] No such file or directory: 'working_dir/amazon_111215.pdf'",
     "output_type": "error",
     "traceback": [
      "\u001b[0;31m---------------------------------------------------------------------------\u001b[0m",
      "\u001b[0;31mFileNotFoundError\u001b[0m                         Traceback (most recent call last)",
      "Cell \u001b[0;32mIn[54], line 22\u001b[0m\n\u001b[1;32m     19\u001b[0m file_path \u001b[38;5;241m=\u001b[39m \u001b[38;5;124m\"\u001b[39m\u001b[38;5;124mworking_dir/amazon_111215.pdf\u001b[39m\u001b[38;5;124m\"\u001b[39m\n\u001b[1;32m     21\u001b[0m \u001b[38;5;66;03m# Step 1: Extract text from the PDF\u001b[39;00m\n\u001b[0;32m---> 22\u001b[0m pdf_text \u001b[38;5;241m=\u001b[39m \u001b[43mextract_text_from_pdf\u001b[49m\u001b[43m(\u001b[49m\u001b[43mfile_path\u001b[49m\u001b[43m)\u001b[49m\n\u001b[1;32m     24\u001b[0m \u001b[38;5;66;03m# Step 2: Extract specific invoice details using OpenAI ChatCompletion\u001b[39;00m\n\u001b[1;32m     25\u001b[0m response, invoice_data \u001b[38;5;241m=\u001b[39m extract_invoice_data(client, pdf_text)\n",
      "Cell \u001b[0;32mIn[53], line 4\u001b[0m, in \u001b[0;36mextract_text_from_pdf\u001b[0;34m(file_path)\u001b[0m\n\u001b[1;32m      2\u001b[0m \u001b[38;5;250m\u001b[39m\u001b[38;5;124;03m\"\"\"Extracts text from a PDF file.\"\"\"\u001b[39;00m\n\u001b[1;32m      3\u001b[0m text \u001b[38;5;241m=\u001b[39m \u001b[38;5;124m\"\u001b[39m\u001b[38;5;124m\"\u001b[39m\n\u001b[0;32m----> 4\u001b[0m \u001b[38;5;28;01mwith\u001b[39;00m \u001b[38;5;28;43mopen\u001b[39;49m\u001b[43m(\u001b[49m\u001b[43mfile_path\u001b[49m\u001b[43m,\u001b[49m\u001b[43m \u001b[49m\u001b[38;5;124;43m'\u001b[39;49m\u001b[38;5;124;43mrb\u001b[39;49m\u001b[38;5;124;43m'\u001b[39;49m\u001b[43m)\u001b[49m \u001b[38;5;28;01mas\u001b[39;00m file:\n\u001b[1;32m      5\u001b[0m     reader \u001b[38;5;241m=\u001b[39m PyPDF2\u001b[38;5;241m.\u001b[39mPdfReader(file)\n\u001b[1;32m      6\u001b[0m     \u001b[38;5;28;01mfor\u001b[39;00m page \u001b[38;5;129;01min\u001b[39;00m reader\u001b[38;5;241m.\u001b[39mpages:\n",
      "File \u001b[0;32m/usr/local/Caskroom/miniforge/base/envs/pdf/lib/python3.12/site-packages/IPython/core/interactiveshell.py:324\u001b[0m, in \u001b[0;36m_modified_open\u001b[0;34m(file, *args, **kwargs)\u001b[0m\n\u001b[1;32m    317\u001b[0m \u001b[38;5;28;01mif\u001b[39;00m file \u001b[38;5;129;01min\u001b[39;00m {\u001b[38;5;241m0\u001b[39m, \u001b[38;5;241m1\u001b[39m, \u001b[38;5;241m2\u001b[39m}:\n\u001b[1;32m    318\u001b[0m     \u001b[38;5;28;01mraise\u001b[39;00m \u001b[38;5;167;01mValueError\u001b[39;00m(\n\u001b[1;32m    319\u001b[0m         \u001b[38;5;124mf\u001b[39m\u001b[38;5;124m\"\u001b[39m\u001b[38;5;124mIPython won\u001b[39m\u001b[38;5;124m'\u001b[39m\u001b[38;5;124mt let you open fd=\u001b[39m\u001b[38;5;132;01m{\u001b[39;00mfile\u001b[38;5;132;01m}\u001b[39;00m\u001b[38;5;124m by default \u001b[39m\u001b[38;5;124m\"\u001b[39m\n\u001b[1;32m    320\u001b[0m         \u001b[38;5;124m\"\u001b[39m\u001b[38;5;124mas it is likely to crash IPython. If you know what you are doing, \u001b[39m\u001b[38;5;124m\"\u001b[39m\n\u001b[1;32m    321\u001b[0m         \u001b[38;5;124m\"\u001b[39m\u001b[38;5;124myou can use builtins\u001b[39m\u001b[38;5;124m'\u001b[39m\u001b[38;5;124m open.\u001b[39m\u001b[38;5;124m\"\u001b[39m\n\u001b[1;32m    322\u001b[0m     )\n\u001b[0;32m--> 324\u001b[0m \u001b[38;5;28;01mreturn\u001b[39;00m \u001b[43mio_open\u001b[49m\u001b[43m(\u001b[49m\u001b[43mfile\u001b[49m\u001b[43m,\u001b[49m\u001b[43m \u001b[49m\u001b[38;5;241;43m*\u001b[39;49m\u001b[43margs\u001b[49m\u001b[43m,\u001b[49m\u001b[43m \u001b[49m\u001b[38;5;241;43m*\u001b[39;49m\u001b[38;5;241;43m*\u001b[39;49m\u001b[43mkwargs\u001b[49m\u001b[43m)\u001b[49m\n",
      "\u001b[0;31mFileNotFoundError\u001b[0m: [Errno 2] No such file or directory: 'working_dir/amazon_111215.pdf'"
     ]
    }
   ],
   "source": [
    "'''\n",
    "Use openai api to extract data from a PDF file and format into a table.\n",
    "'''\n",
    "\n",
    "import PyPDF2\n",
    "import pandas as pd\n",
    "import dotenv\n",
    "import os\n",
    "import openai\n",
    "import pdf_functions as pdf\n",
    "\n",
    "# Load environment variables from the .env file\n",
    "dotenv.load_dotenv()\n",
    "\n",
    "# instantiate \n",
    "client = openai.OpenAI(api_key=os.getenv(\"OPENAI_API_KEY\"))\n",
    "\n",
    "# File path to the PDF\n",
    "file_path = \"working_dir/amazon_111215.pdf\"\n",
    "\n",
    "# Step 1: Extract text from the PDF\n",
    "pdf_text = extract_text_from_pdf(file_path)\n",
    "\n",
    "# Step 2: Extract specific invoice details using OpenAI ChatCompletion\n",
    "response, invoice_data = extract_invoice_data(client, pdf_text)\n",
    "\n",
    "# Step 3: Create a pandas dataframe with the extracted data\n",
    "invoice_table = create_invoice_table(invoice_data)\n",
    "\n",
    "# Step 4: Save the dataframe to a CSV file\n",
    "#invoice_table.to_csv(\"invoice_table.csv\", index=False)  # original\n",
    "\n",
    "# grab company name and invoice date from overview table\n",
    "company_name, invoice_date = pull_name_date(invoice_table)\n",
    "name_base = save_name(company_name, invoice_date)\n",
    "            \n",
    "# save the csv and log\n",
    "routine,log_value=pdf.save_as_csv(value, csv_dir, name_base, key)\n",
    "#sys_pdf.sys_log_entry(routine, log_value)"
   ]
  },
  {
   "cell_type": "code",
   "execution_count": 146,
   "id": "7b095a7c-cddf-47ac-9fed-38e59dbd48b8",
   "metadata": {},
   "outputs": [],
   "source": []
  },
  {
   "cell_type": "code",
   "execution_count": null,
   "id": "ee42a97e-a47b-48ad-ac5e-0be88b569f8f",
   "metadata": {},
   "outputs": [],
   "source": []
  },
  {
   "cell_type": "code",
   "execution_count": null,
   "id": "f9301f24-fbd3-472d-9444-47b1cf28dbfa",
   "metadata": {},
   "outputs": [],
   "source": []
  },
  {
   "cell_type": "code",
   "execution_count": null,
   "id": "9a9753ca-879b-4fbf-a7db-c6ad5202f7ad",
   "metadata": {},
   "outputs": [],
   "source": []
  },
  {
   "cell_type": "code",
   "execution_count": null,
   "id": "3f6da123-fcdd-4742-a3db-3b5ec48cc79c",
   "metadata": {},
   "outputs": [],
   "source": []
  },
  {
   "cell_type": "code",
   "execution_count": null,
   "id": "b0598bf3-7962-468d-b870-8bdf22a9b2b7",
   "metadata": {},
   "outputs": [],
   "source": []
  },
  {
   "cell_type": "code",
   "execution_count": null,
   "id": "58ad6dab-7181-4b16-994a-aad24f1de27d",
   "metadata": {},
   "outputs": [],
   "source": []
  },
  {
   "cell_type": "code",
   "execution_count": null,
   "id": "2ce60790-98f0-495a-841a-6df433163cc2",
   "metadata": {},
   "outputs": [],
   "source": []
  },
  {
   "cell_type": "code",
   "execution_count": null,
   "id": "721eae6d-0baf-4114-8314-03b1d58dcdfb",
   "metadata": {},
   "outputs": [],
   "source": []
  },
  {
   "cell_type": "code",
   "execution_count": null,
   "id": "04f284cf-4e1f-47a5-bdf7-ba88b2947832",
   "metadata": {},
   "outputs": [],
   "source": []
  },
  {
   "cell_type": "code",
   "execution_count": null,
   "id": "0efe1d1a-a481-44a1-9655-4fe3c4aec5ae",
   "metadata": {},
   "outputs": [],
   "source": []
  },
  {
   "cell_type": "code",
   "execution_count": null,
   "id": "d47ce890-f597-4c21-891b-8359f4982563",
   "metadata": {},
   "outputs": [],
   "source": []
  },
  {
   "cell_type": "code",
   "execution_count": null,
   "id": "a3b0fa22-f99f-4c8b-95b0-1be16abe9471",
   "metadata": {},
   "outputs": [],
   "source": []
  }
 ],
 "metadata": {
  "kernelspec": {
   "display_name": "Python 3 (ipykernel)",
   "language": "python",
   "name": "python3"
  },
  "language_info": {
   "codemirror_mode": {
    "name": "ipython",
    "version": 3
   },
   "file_extension": ".py",
   "mimetype": "text/x-python",
   "name": "python",
   "nbconvert_exporter": "python",
   "pygments_lexer": "ipython3",
   "version": "3.12.7"
  }
 },
 "nbformat": 4,
 "nbformat_minor": 5
}
